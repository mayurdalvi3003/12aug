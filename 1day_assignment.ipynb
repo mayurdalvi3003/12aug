{
 "cells": [
  {
   "cell_type": "markdown",
   "id": "2cfa332a",
   "metadata": {},
   "source": [
    "1. Declare two variables, `x` and `y`, and assign them integer values. Swap the values of these variables\n",
    "without using any temporary variable.\n"
   ]
  },
  {
   "cell_type": "code",
   "execution_count": 5,
   "id": "91963ece",
   "metadata": {},
   "outputs": [
    {
     "name": "stdout",
     "output_type": "stream",
     "text": [
      "After swapping the variables i got the solution which is given below : \n",
      "the value of x is 20\n",
      "the value of y is 10\n"
     ]
    }
   ],
   "source": [
    "x = 10\n",
    "y = 20\n",
    "\n",
    "x = x +y\n",
    "y = x-y\n",
    "x = x-y\n",
    "print(\"After swapping the variables i got the solution which is given below : \")\n",
    "print(\"the value of x is\" , x)\n",
    "print(\"the value of y is\" , y)\n"
   ]
  },
  {
   "cell_type": "markdown",
   "id": "41e48c16",
   "metadata": {},
   "source": [
    "2. Create a program that calculates the area of a rectangle. Take the length and width as inputs from the\n",
    "user and store them in variables. Calculate and display the area.\n"
   ]
  },
  {
   "cell_type": "code",
   "execution_count": 6,
   "id": "8280839f",
   "metadata": {},
   "outputs": [
    {
     "name": "stdout",
     "output_type": "stream",
     "text": [
      "Enter the length of the rectangle : 10\n",
      "Enter the width of the rectangle : 20\n",
      "The area of the rectangle is  200.0\n"
     ]
    }
   ],
   "source": [
    "length = float(input(\"Enter the length of the rectangle : \"))\n",
    "width = float(input(\"Enter the width of the rectangle : \"))\n",
    "area = length * width\n",
    "print(\"The area of the rectangle is \" , area)"
   ]
  },
  {
   "cell_type": "markdown",
   "id": "3064be75",
   "metadata": {},
   "source": [
    "3. Write a Python program that converts temperatures from Celsius to Fahrenheit. Take the temperature\n",
    "in Celsius as input, store it in a variable, convert it to Fahrenheit, and display the result.\n"
   ]
  },
  {
   "cell_type": "code",
   "execution_count": 6,
   "id": "aa03db67",
   "metadata": {},
   "outputs": [
    {
     "name": "stdout",
     "output_type": "stream",
     "text": [
      "Enter the Temperature in celcius : 30.20\n",
      "The temperature in Fahrenheit is : 86.36\n"
     ]
    }
   ],
   "source": [
    "temp_in_celcius = float(input(\"Enter the Temperature in celcius : \"))\n",
    "temp_in_Fahrenheit = temp_in_celcius *9/5+32\n",
    "print(\"The temperature in Fahrenheit is :\" ,temp_in_Fahrenheit )"
   ]
  },
  {
   "cell_type": "markdown",
   "id": "f586c577",
   "metadata": {},
   "source": [
    "String based questions: \n",
    "1.Write a Python program that takes a string as input and prints the length of the string.\n"
   ]
  },
  {
   "cell_type": "code",
   "execution_count": 6,
   "id": "543f2569",
   "metadata": {},
   "outputs": [
    {
     "name": "stdout",
     "output_type": "stream",
     "text": [
      "Enter any string as a input : mayur\n",
      "The length of the string is :  5\n"
     ]
    }
   ],
   "source": [
    "a = input(\"Enter any string as a input : \")\n",
    "print(\"The length of the string is : \" , len(a))"
   ]
  },
  {
   "cell_type": "markdown",
   "id": "d8e7d709",
   "metadata": {},
   "source": [
    "2. Create a program that takes a sentence from the user and counts the number of vowels (a, e, i, o, u) in\n",
    "the string"
   ]
  },
  {
   "cell_type": "code",
   "execution_count": 12,
   "id": "3328434f",
   "metadata": {},
   "outputs": [
    {
     "name": "stdout",
     "output_type": "stream",
     "text": [
      "Enter any sentence : Mayur Santosh Dalvi\n",
      "The lower string is :  mayur santosh dalvi\n",
      "The number of vovels in the given sentence is : 6\n"
     ]
    }
   ],
   "source": [
    "sentence = input(\"Enter any sentence : \")\n",
    "lower_string = sentence.lower()\n",
    "print(\"The lower string is : \",lower_string)\n",
    "vovel_count = 0 \n",
    "list1 =[\"a\",\"e\",\"i\",\"o\",\"u\"]\n",
    "for char in lower_string :\n",
    "    if char in list1:\n",
    "        vovel_count = vovel_count+1\n",
    "print(\"The number of vovels in the given sentence is :\" , vovel_count)"
   ]
  },
  {
   "cell_type": "markdown",
   "id": "b84bfe6b",
   "metadata": {},
   "source": [
    "3. Given a string, reverse the order of characters using string slicing and print the reversed string.\n"
   ]
  },
  {
   "cell_type": "code",
   "execution_count": 14,
   "id": "37cc9a72",
   "metadata": {},
   "outputs": [
    {
     "name": "stdout",
     "output_type": "stream",
     "text": [
      "Enter any string : PWSKILLS\n",
      "The reverse string is  SLLIKSWP\n"
     ]
    }
   ],
   "source": [
    "string = input(\"Enter any string : \")\n",
    "reverse_string = string[::-1]\n",
    "print(\"The reverse string is \" , reverse_string)"
   ]
  },
  {
   "cell_type": "markdown",
   "id": "e69008a7",
   "metadata": {},
   "source": [
    "4. Write a program that takes a string as input and checks if it is a palindrome (reads the same forwards\n",
    "and backwards).\n"
   ]
  },
  {
   "cell_type": "code",
   "execution_count": 33,
   "id": "e26ee310",
   "metadata": {},
   "outputs": [
    {
     "name": "stdout",
     "output_type": "stream",
     "text": [
      "Enter any string : mayur\n",
      "The reverse string is :  ruyam\n",
      "The string is not palindrome \n"
     ]
    }
   ],
   "source": [
    "s1 = input(\"Enter any string : \")\n",
    "rev_str = s1[::-1]\n",
    "print(\"The reverse string is : \" , rev_str)\n",
    "\n",
    "if s1 == rev_str:\n",
    "    print(\"The string is palindrome \")\n",
    "else :\n",
    "    print(\"The string is not palindrome \")\n",
    "    "
   ]
  },
  {
   "cell_type": "markdown",
   "id": "ef4fd74c",
   "metadata": {},
   "source": [
    "5. Create a program that takes a string as input and removes all the spaces from it. Print the modified\n",
    "string without spaces"
   ]
  },
  {
   "cell_type": "code",
   "execution_count": 30,
   "id": "dab1728a",
   "metadata": {},
   "outputs": [
    {
     "name": "stdout",
     "output_type": "stream",
     "text": [
      "Enter any string which you want : My Name Is Mayur Santosh Dalvi\n",
      "The modified version of the string is  MyNameIsMayurSantoshDalvi\n"
     ]
    }
   ],
   "source": [
    "s2 = input(\"Enter any string which you want : \")\n",
    "new_string = s2.replace(\" \",\"\")\n",
    "print(\"The modified version of the string is \" , new_string )\n"
   ]
  },
  {
   "cell_type": "code",
   "execution_count": null,
   "id": "69d74214",
   "metadata": {},
   "outputs": [],
   "source": []
  }
 ],
 "metadata": {
  "kernelspec": {
   "display_name": "Python 3 (ipykernel)",
   "language": "python",
   "name": "python3"
  },
  "language_info": {
   "codemirror_mode": {
    "name": "ipython",
    "version": 3
   },
   "file_extension": ".py",
   "mimetype": "text/x-python",
   "name": "python",
   "nbconvert_exporter": "python",
   "pygments_lexer": "ipython3",
   "version": "3.11.1"
  }
 },
 "nbformat": 4,
 "nbformat_minor": 5
}
